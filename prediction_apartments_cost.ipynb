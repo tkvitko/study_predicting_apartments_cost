{
 "cells": [
  {
   "cell_type": "markdown",
   "metadata": {
    "colab_type": "text",
    "id": "l0jQ99bneMhz"
   },
   "source": [
    "**Подключение библиотек и скриптов**\n"
   ]
  },
  {
   "cell_type": "code",
   "execution_count": 381,
   "metadata": {
    "colab": {},
    "colab_type": "code",
    "id": "GWZR2PcfeNib"
   },
   "outputs": [],
   "source": [
    "import numpy as np\n",
    "import pandas as pd\n",
    "import io\n",
    "import matplotlib\n",
    "import matplotlib.pyplot as plt\n",
    "import seaborn as sns\n",
    "\n",
    "from sklearn.model_selection import cross_val_score\n",
    "from sklearn.ensemble import RandomForestRegressor\n",
    "from sklearn.metrics import r2_score\n",
    "from sklearn.model_selection import KFold, GridSearchCV\n",
    "\n",
    "%matplotlib inline\n",
    "import warnings\n",
    "warnings.filterwarnings('ignore')\n",
    "sns.set(style='whitegrid')\n",
    "sns.set_context(\"paper\", font_scale=1.5)  \n",
    "pd.options.display.float_format = '{:,.2f}'.format\n",
    "pd.set_option('display.max_rows', 50)"
   ]
  },
  {
   "cell_type": "markdown",
   "metadata": {
    "colab_type": "text",
    "id": "YdHVj7XZe_V3"
   },
   "source": [
    "### Загрузка данных\n",
    "Описание датасета:\n",
    "* Id - идентификационный номер квартиры\n",
    "* DistrictId - идентификационный номер района\n",
    "* Rooms - количество комнат\n",
    "* Square - площадь\n",
    "* LifeSquare - жилая площадь\n",
    "* KitchenSquare - площадь кухни\n",
    "* Floor - этаж\n",
    "* HouseFloor - количество этажей в доме\n",
    "* HouseYear - год постройки дома\n",
    "* Ecology_1, Ecology_2, Ecology_3 - экологические показатели местности\n",
    "* Social_1, Social_2, Social_3 - социальные показатели местности\n",
    "* Healthcare_1, Helthcare_2 - показатели местности, связанные с охраной здоровья\n",
    "* Shops_1, Shops_2 - показатели, связанные с наличием магазинов, торговых центров\n",
    "* Price - цена квартиры"
   ]
  },
  {
   "cell_type": "code",
   "execution_count": 382,
   "metadata": {
    "colab": {
     "base_uri": "https://localhost:8080/",
     "height": 224
    },
    "colab_type": "code",
    "executionInfo": {
     "elapsed": 1193,
     "status": "ok",
     "timestamp": 1589561214678,
     "user": {
      "displayName": "Тарас Квитко",
      "photoUrl": "https://lh3.googleusercontent.com/a-/AOh14GjLP9GfiNSLAREzD7OvwZMW6wO991secxbYHStB=s64",
      "userId": "17528970072518703139"
     },
     "user_tz": -180
    },
    "id": "dYehjyJYfADW",
    "outputId": "546d14c5-7978-4a4d-da8c-8af63129879d"
   },
   "outputs": [
    {
     "data": {
      "text/html": [
       "<div>\n",
       "<style scoped>\n",
       "    .dataframe tbody tr th:only-of-type {\n",
       "        vertical-align: middle;\n",
       "    }\n",
       "\n",
       "    .dataframe tbody tr th {\n",
       "        vertical-align: top;\n",
       "    }\n",
       "\n",
       "    .dataframe thead th {\n",
       "        text-align: right;\n",
       "    }\n",
       "</style>\n",
       "<table border=\"1\" class=\"dataframe\">\n",
       "  <thead>\n",
       "    <tr style=\"text-align: right;\">\n",
       "      <th></th>\n",
       "      <th>Id</th>\n",
       "      <th>DistrictId</th>\n",
       "      <th>Rooms</th>\n",
       "      <th>Square</th>\n",
       "      <th>LifeSquare</th>\n",
       "      <th>KitchenSquare</th>\n",
       "      <th>Floor</th>\n",
       "      <th>HouseFloor</th>\n",
       "      <th>HouseYear</th>\n",
       "      <th>Ecology_1</th>\n",
       "      <th>Ecology_2</th>\n",
       "      <th>Ecology_3</th>\n",
       "      <th>Social_1</th>\n",
       "      <th>Social_2</th>\n",
       "      <th>Social_3</th>\n",
       "      <th>Healthcare_1</th>\n",
       "      <th>Helthcare_2</th>\n",
       "      <th>Shops_1</th>\n",
       "      <th>Shops_2</th>\n",
       "      <th>Price</th>\n",
       "    </tr>\n",
       "  </thead>\n",
       "  <tbody>\n",
       "    <tr>\n",
       "      <th>0</th>\n",
       "      <td>14038</td>\n",
       "      <td>35</td>\n",
       "      <td>2.00</td>\n",
       "      <td>47.98</td>\n",
       "      <td>29.44</td>\n",
       "      <td>6.00</td>\n",
       "      <td>7</td>\n",
       "      <td>9.00</td>\n",
       "      <td>1969</td>\n",
       "      <td>0.09</td>\n",
       "      <td>B</td>\n",
       "      <td>B</td>\n",
       "      <td>33</td>\n",
       "      <td>7976</td>\n",
       "      <td>5</td>\n",
       "      <td>nan</td>\n",
       "      <td>0</td>\n",
       "      <td>11</td>\n",
       "      <td>B</td>\n",
       "      <td>184,966.93</td>\n",
       "    </tr>\n",
       "    <tr>\n",
       "      <th>1</th>\n",
       "      <td>15053</td>\n",
       "      <td>41</td>\n",
       "      <td>3.00</td>\n",
       "      <td>65.68</td>\n",
       "      <td>40.05</td>\n",
       "      <td>8.00</td>\n",
       "      <td>7</td>\n",
       "      <td>9.00</td>\n",
       "      <td>1978</td>\n",
       "      <td>0.00</td>\n",
       "      <td>B</td>\n",
       "      <td>B</td>\n",
       "      <td>46</td>\n",
       "      <td>10309</td>\n",
       "      <td>1</td>\n",
       "      <td>240.00</td>\n",
       "      <td>1</td>\n",
       "      <td>16</td>\n",
       "      <td>B</td>\n",
       "      <td>300,009.45</td>\n",
       "    </tr>\n",
       "    <tr>\n",
       "      <th>2</th>\n",
       "      <td>4765</td>\n",
       "      <td>53</td>\n",
       "      <td>2.00</td>\n",
       "      <td>44.95</td>\n",
       "      <td>29.20</td>\n",
       "      <td>0.00</td>\n",
       "      <td>8</td>\n",
       "      <td>12.00</td>\n",
       "      <td>1968</td>\n",
       "      <td>0.05</td>\n",
       "      <td>B</td>\n",
       "      <td>B</td>\n",
       "      <td>34</td>\n",
       "      <td>7759</td>\n",
       "      <td>0</td>\n",
       "      <td>229.00</td>\n",
       "      <td>1</td>\n",
       "      <td>3</td>\n",
       "      <td>B</td>\n",
       "      <td>220,925.91</td>\n",
       "    </tr>\n",
       "    <tr>\n",
       "      <th>3</th>\n",
       "      <td>5809</td>\n",
       "      <td>58</td>\n",
       "      <td>2.00</td>\n",
       "      <td>53.35</td>\n",
       "      <td>52.73</td>\n",
       "      <td>9.00</td>\n",
       "      <td>8</td>\n",
       "      <td>17.00</td>\n",
       "      <td>1977</td>\n",
       "      <td>0.44</td>\n",
       "      <td>B</td>\n",
       "      <td>B</td>\n",
       "      <td>23</td>\n",
       "      <td>5735</td>\n",
       "      <td>3</td>\n",
       "      <td>1,084.00</td>\n",
       "      <td>0</td>\n",
       "      <td>5</td>\n",
       "      <td>B</td>\n",
       "      <td>175,616.23</td>\n",
       "    </tr>\n",
       "    <tr>\n",
       "      <th>4</th>\n",
       "      <td>10783</td>\n",
       "      <td>99</td>\n",
       "      <td>1.00</td>\n",
       "      <td>39.65</td>\n",
       "      <td>23.78</td>\n",
       "      <td>7.00</td>\n",
       "      <td>11</td>\n",
       "      <td>12.00</td>\n",
       "      <td>1976</td>\n",
       "      <td>0.01</td>\n",
       "      <td>B</td>\n",
       "      <td>B</td>\n",
       "      <td>35</td>\n",
       "      <td>5776</td>\n",
       "      <td>1</td>\n",
       "      <td>2,078.00</td>\n",
       "      <td>2</td>\n",
       "      <td>4</td>\n",
       "      <td>B</td>\n",
       "      <td>150,226.53</td>\n",
       "    </tr>\n",
       "  </tbody>\n",
       "</table>\n",
       "</div>"
      ],
      "text/plain": [
       "      Id  DistrictId  Rooms  Square  LifeSquare  KitchenSquare  Floor  \\\n",
       "0  14038          35   2.00   47.98       29.44           6.00      7   \n",
       "1  15053          41   3.00   65.68       40.05           8.00      7   \n",
       "2   4765          53   2.00   44.95       29.20           0.00      8   \n",
       "3   5809          58   2.00   53.35       52.73           9.00      8   \n",
       "4  10783          99   1.00   39.65       23.78           7.00     11   \n",
       "\n",
       "   HouseFloor  HouseYear  Ecology_1 Ecology_2 Ecology_3  Social_1  Social_2  \\\n",
       "0        9.00       1969       0.09         B         B        33      7976   \n",
       "1        9.00       1978       0.00         B         B        46     10309   \n",
       "2       12.00       1968       0.05         B         B        34      7759   \n",
       "3       17.00       1977       0.44         B         B        23      5735   \n",
       "4       12.00       1976       0.01         B         B        35      5776   \n",
       "\n",
       "   Social_3  Healthcare_1  Helthcare_2  Shops_1 Shops_2      Price  \n",
       "0         5           nan            0       11       B 184,966.93  \n",
       "1         1        240.00            1       16       B 300,009.45  \n",
       "2         0        229.00            1        3       B 220,925.91  \n",
       "3         3      1,084.00            0        5       B 175,616.23  \n",
       "4         1      2,078.00            2        4       B 150,226.53  "
      ]
     },
     "execution_count": 382,
     "metadata": {},
     "output_type": "execute_result"
    }
   ],
   "source": [
    "df_train = pd.read_csv('train.csv')\n",
    "df_test = pd.read_csv('test.csv')\n",
    "df_train.head()"
   ]
  },
  {
   "cell_type": "code",
   "execution_count": 383,
   "metadata": {
    "colab": {
     "base_uri": "https://localhost:8080/",
     "height": 34
    },
    "colab_type": "code",
    "executionInfo": {
     "elapsed": 649,
     "status": "ok",
     "timestamp": 1589532128666,
     "user": {
      "displayName": "Тарас Квитко",
      "photoUrl": "https://lh3.googleusercontent.com/a-/AOh14GjLP9GfiNSLAREzD7OvwZMW6wO991secxbYHStB=s64",
      "userId": "17528970072518703139"
     },
     "user_tz": -180
    },
    "id": "Yo3LmQkFf2xs",
    "outputId": "7802c25c-3a6c-46d1-de0d-8ca62de466dc"
   },
   "outputs": [
    {
     "data": {
      "text/plain": [
       "((10000, 20), (5000, 19))"
      ]
     },
     "execution_count": 383,
     "metadata": {},
     "output_type": "execute_result"
    }
   ],
   "source": [
    "df_train.shape, df_test.shape"
   ]
  },
  {
   "cell_type": "markdown",
   "metadata": {
    "colab_type": "text",
    "id": "XQH685FGgB5N"
   },
   "source": [
    "### Получение информации о данных"
   ]
  },
  {
   "cell_type": "code",
   "execution_count": 384,
   "metadata": {
    "colab": {
     "base_uri": "https://localhost:8080/",
     "height": 459
    },
    "colab_type": "code",
    "executionInfo": {
     "elapsed": 720,
     "status": "ok",
     "timestamp": 1589536299010,
     "user": {
      "displayName": "Тарас Квитко",
      "photoUrl": "https://lh3.googleusercontent.com/a-/AOh14GjLP9GfiNSLAREzD7OvwZMW6wO991secxbYHStB=s64",
      "userId": "17528970072518703139"
     },
     "user_tz": -180
    },
    "id": "EonfEsWGgCj3",
    "outputId": "aa08864d-c1d7-4bcf-e947-93f240e39948"
   },
   "outputs": [
    {
     "name": "stdout",
     "output_type": "stream",
     "text": [
      "<class 'pandas.core.frame.DataFrame'>\n",
      "RangeIndex: 5000 entries, 0 to 4999\n",
      "Data columns (total 19 columns):\n",
      " #   Column         Non-Null Count  Dtype  \n",
      "---  ------         --------------  -----  \n",
      " 0   Id             5000 non-null   int64  \n",
      " 1   DistrictId     5000 non-null   int64  \n",
      " 2   Rooms          5000 non-null   float64\n",
      " 3   Square         5000 non-null   float64\n",
      " 4   LifeSquare     3959 non-null   float64\n",
      " 5   KitchenSquare  5000 non-null   float64\n",
      " 6   Floor          5000 non-null   int64  \n",
      " 7   HouseFloor     5000 non-null   float64\n",
      " 8   HouseYear      5000 non-null   int64  \n",
      " 9   Ecology_1      5000 non-null   float64\n",
      " 10  Ecology_2      5000 non-null   object \n",
      " 11  Ecology_3      5000 non-null   object \n",
      " 12  Social_1       5000 non-null   int64  \n",
      " 13  Social_2       5000 non-null   int64  \n",
      " 14  Social_3       5000 non-null   int64  \n",
      " 15  Healthcare_1   2623 non-null   float64\n",
      " 16  Helthcare_2    5000 non-null   int64  \n",
      " 17  Shops_1        5000 non-null   int64  \n",
      " 18  Shops_2        5000 non-null   object \n",
      "dtypes: float64(7), int64(9), object(3)\n",
      "memory usage: 742.3+ KB\n"
     ]
    }
   ],
   "source": [
    "df_test.info()"
   ]
  },
  {
   "cell_type": "code",
   "execution_count": 385,
   "metadata": {
    "colab": {
     "base_uri": "https://localhost:8080/",
     "height": 357
    },
    "colab_type": "code",
    "executionInfo": {
     "elapsed": 598,
     "status": "ok",
     "timestamp": 1589536265524,
     "user": {
      "displayName": "Тарас Квитко",
      "photoUrl": "https://lh3.googleusercontent.com/a-/AOh14GjLP9GfiNSLAREzD7OvwZMW6wO991secxbYHStB=s64",
      "userId": "17528970072518703139"
     },
     "user_tz": -180
    },
    "id": "zIQCD8u3gNgP",
    "outputId": "13d01464-8017-4c57-9eb7-6eaa63ecf48f"
   },
   "outputs": [
    {
     "data": {
      "text/plain": [
       "Id                 int64\n",
       "DistrictId         int64\n",
       "Rooms            float64\n",
       "Square           float64\n",
       "LifeSquare       float64\n",
       "KitchenSquare    float64\n",
       "Floor              int64\n",
       "HouseFloor       float64\n",
       "HouseYear          int64\n",
       "Ecology_1        float64\n",
       "Ecology_2         object\n",
       "Ecology_3         object\n",
       "Social_1           int64\n",
       "Social_2           int64\n",
       "Social_3           int64\n",
       "Healthcare_1     float64\n",
       "Helthcare_2        int64\n",
       "Shops_1            int64\n",
       "Shops_2           object\n",
       "dtype: object"
      ]
     },
     "execution_count": 385,
     "metadata": {},
     "output_type": "execute_result"
    }
   ],
   "source": [
    "df_test.dtypes"
   ]
  },
  {
   "cell_type": "code",
   "execution_count": 386,
   "metadata": {
    "colab": {
     "base_uri": "https://localhost:8080/",
     "height": 638
    },
    "colab_type": "code",
    "executionInfo": {
     "elapsed": 685,
     "status": "ok",
     "timestamp": 1589536359117,
     "user": {
      "displayName": "Тарас Квитко",
      "photoUrl": "https://lh3.googleusercontent.com/a-/AOh14GjLP9GfiNSLAREzD7OvwZMW6wO991secxbYHStB=s64",
      "userId": "17528970072518703139"
     },
     "user_tz": -180
    },
    "id": "IXedpA84gR1G",
    "outputId": "7b0e10a4-eabb-42ce-9110-18d9ebd0ca78"
   },
   "outputs": [
    {
     "data": {
      "text/html": [
       "<div>\n",
       "<style scoped>\n",
       "    .dataframe tbody tr th:only-of-type {\n",
       "        vertical-align: middle;\n",
       "    }\n",
       "\n",
       "    .dataframe tbody tr th {\n",
       "        vertical-align: top;\n",
       "    }\n",
       "\n",
       "    .dataframe thead th {\n",
       "        text-align: right;\n",
       "    }\n",
       "</style>\n",
       "<table border=\"1\" class=\"dataframe\">\n",
       "  <thead>\n",
       "    <tr style=\"text-align: right;\">\n",
       "      <th></th>\n",
       "      <th>count</th>\n",
       "      <th>mean</th>\n",
       "      <th>std</th>\n",
       "      <th>min</th>\n",
       "      <th>25%</th>\n",
       "      <th>50%</th>\n",
       "      <th>75%</th>\n",
       "      <th>max</th>\n",
       "    </tr>\n",
       "  </thead>\n",
       "  <tbody>\n",
       "    <tr>\n",
       "      <th>Id</th>\n",
       "      <td>5,000.00</td>\n",
       "      <td>8,412.60</td>\n",
       "      <td>4,832.67</td>\n",
       "      <td>1.00</td>\n",
       "      <td>4,221.75</td>\n",
       "      <td>8,320.50</td>\n",
       "      <td>12,598.25</td>\n",
       "      <td>16,795.00</td>\n",
       "    </tr>\n",
       "    <tr>\n",
       "      <th>DistrictId</th>\n",
       "      <td>5,000.00</td>\n",
       "      <td>51.28</td>\n",
       "      <td>44.18</td>\n",
       "      <td>0.00</td>\n",
       "      <td>21.00</td>\n",
       "      <td>37.00</td>\n",
       "      <td>77.00</td>\n",
       "      <td>212.00</td>\n",
       "    </tr>\n",
       "    <tr>\n",
       "      <th>Rooms</th>\n",
       "      <td>5,000.00</td>\n",
       "      <td>1.91</td>\n",
       "      <td>0.84</td>\n",
       "      <td>0.00</td>\n",
       "      <td>1.00</td>\n",
       "      <td>2.00</td>\n",
       "      <td>2.00</td>\n",
       "      <td>17.00</td>\n",
       "    </tr>\n",
       "    <tr>\n",
       "      <th>Square</th>\n",
       "      <td>5,000.00</td>\n",
       "      <td>56.45</td>\n",
       "      <td>19.09</td>\n",
       "      <td>1.38</td>\n",
       "      <td>41.91</td>\n",
       "      <td>52.92</td>\n",
       "      <td>66.29</td>\n",
       "      <td>223.45</td>\n",
       "    </tr>\n",
       "    <tr>\n",
       "      <th>LifeSquare</th>\n",
       "      <td>3,959.00</td>\n",
       "      <td>36.16</td>\n",
       "      <td>17.83</td>\n",
       "      <td>0.33</td>\n",
       "      <td>23.09</td>\n",
       "      <td>32.93</td>\n",
       "      <td>45.17</td>\n",
       "      <td>303.07</td>\n",
       "    </tr>\n",
       "    <tr>\n",
       "      <th>KitchenSquare</th>\n",
       "      <td>5,000.00</td>\n",
       "      <td>5.98</td>\n",
       "      <td>9.95</td>\n",
       "      <td>0.00</td>\n",
       "      <td>1.00</td>\n",
       "      <td>6.00</td>\n",
       "      <td>9.00</td>\n",
       "      <td>620.00</td>\n",
       "    </tr>\n",
       "    <tr>\n",
       "      <th>Floor</th>\n",
       "      <td>5,000.00</td>\n",
       "      <td>8.63</td>\n",
       "      <td>5.48</td>\n",
       "      <td>1.00</td>\n",
       "      <td>4.00</td>\n",
       "      <td>7.00</td>\n",
       "      <td>12.00</td>\n",
       "      <td>78.00</td>\n",
       "    </tr>\n",
       "    <tr>\n",
       "      <th>HouseFloor</th>\n",
       "      <td>5,000.00</td>\n",
       "      <td>12.60</td>\n",
       "      <td>6.79</td>\n",
       "      <td>0.00</td>\n",
       "      <td>9.00</td>\n",
       "      <td>12.00</td>\n",
       "      <td>17.00</td>\n",
       "      <td>99.00</td>\n",
       "    </tr>\n",
       "    <tr>\n",
       "      <th>HouseYear</th>\n",
       "      <td>5,000.00</td>\n",
       "      <td>1,984.39</td>\n",
       "      <td>18.57</td>\n",
       "      <td>1,908.00</td>\n",
       "      <td>1,973.00</td>\n",
       "      <td>1,977.00</td>\n",
       "      <td>2,000.00</td>\n",
       "      <td>2,020.00</td>\n",
       "    </tr>\n",
       "    <tr>\n",
       "      <th>Ecology_1</th>\n",
       "      <td>5,000.00</td>\n",
       "      <td>0.12</td>\n",
       "      <td>0.12</td>\n",
       "      <td>0.00</td>\n",
       "      <td>0.02</td>\n",
       "      <td>0.07</td>\n",
       "      <td>0.20</td>\n",
       "      <td>0.52</td>\n",
       "    </tr>\n",
       "    <tr>\n",
       "      <th>Social_1</th>\n",
       "      <td>5,000.00</td>\n",
       "      <td>24.93</td>\n",
       "      <td>17.53</td>\n",
       "      <td>0.00</td>\n",
       "      <td>6.00</td>\n",
       "      <td>25.00</td>\n",
       "      <td>36.00</td>\n",
       "      <td>74.00</td>\n",
       "    </tr>\n",
       "    <tr>\n",
       "      <th>Social_2</th>\n",
       "      <td>5,000.00</td>\n",
       "      <td>5,406.90</td>\n",
       "      <td>4,026.61</td>\n",
       "      <td>168.00</td>\n",
       "      <td>1,564.00</td>\n",
       "      <td>5,285.00</td>\n",
       "      <td>7,287.00</td>\n",
       "      <td>19,083.00</td>\n",
       "    </tr>\n",
       "    <tr>\n",
       "      <th>Social_3</th>\n",
       "      <td>5,000.00</td>\n",
       "      <td>8.26</td>\n",
       "      <td>23.86</td>\n",
       "      <td>0.00</td>\n",
       "      <td>0.00</td>\n",
       "      <td>2.00</td>\n",
       "      <td>5.00</td>\n",
       "      <td>141.00</td>\n",
       "    </tr>\n",
       "    <tr>\n",
       "      <th>Healthcare_1</th>\n",
       "      <td>2,623.00</td>\n",
       "      <td>1,146.66</td>\n",
       "      <td>1,044.74</td>\n",
       "      <td>0.00</td>\n",
       "      <td>325.00</td>\n",
       "      <td>900.00</td>\n",
       "      <td>1,548.00</td>\n",
       "      <td>4,849.00</td>\n",
       "    </tr>\n",
       "    <tr>\n",
       "      <th>Helthcare_2</th>\n",
       "      <td>5,000.00</td>\n",
       "      <td>1.32</td>\n",
       "      <td>1.48</td>\n",
       "      <td>0.00</td>\n",
       "      <td>0.00</td>\n",
       "      <td>1.00</td>\n",
       "      <td>2.00</td>\n",
       "      <td>6.00</td>\n",
       "    </tr>\n",
       "    <tr>\n",
       "      <th>Shops_1</th>\n",
       "      <td>5,000.00</td>\n",
       "      <td>4.24</td>\n",
       "      <td>4.78</td>\n",
       "      <td>0.00</td>\n",
       "      <td>1.00</td>\n",
       "      <td>3.00</td>\n",
       "      <td>6.00</td>\n",
       "      <td>23.00</td>\n",
       "    </tr>\n",
       "  </tbody>\n",
       "</table>\n",
       "</div>"
      ],
      "text/plain": [
       "                 count     mean      std      min      25%      50%       75%  \\\n",
       "Id            5,000.00 8,412.60 4,832.67     1.00 4,221.75 8,320.50 12,598.25   \n",
       "DistrictId    5,000.00    51.28    44.18     0.00    21.00    37.00     77.00   \n",
       "Rooms         5,000.00     1.91     0.84     0.00     1.00     2.00      2.00   \n",
       "Square        5,000.00    56.45    19.09     1.38    41.91    52.92     66.29   \n",
       "LifeSquare    3,959.00    36.16    17.83     0.33    23.09    32.93     45.17   \n",
       "KitchenSquare 5,000.00     5.98     9.95     0.00     1.00     6.00      9.00   \n",
       "Floor         5,000.00     8.63     5.48     1.00     4.00     7.00     12.00   \n",
       "HouseFloor    5,000.00    12.60     6.79     0.00     9.00    12.00     17.00   \n",
       "HouseYear     5,000.00 1,984.39    18.57 1,908.00 1,973.00 1,977.00  2,000.00   \n",
       "Ecology_1     5,000.00     0.12     0.12     0.00     0.02     0.07      0.20   \n",
       "Social_1      5,000.00    24.93    17.53     0.00     6.00    25.00     36.00   \n",
       "Social_2      5,000.00 5,406.90 4,026.61   168.00 1,564.00 5,285.00  7,287.00   \n",
       "Social_3      5,000.00     8.26    23.86     0.00     0.00     2.00      5.00   \n",
       "Healthcare_1  2,623.00 1,146.66 1,044.74     0.00   325.00   900.00  1,548.00   \n",
       "Helthcare_2   5,000.00     1.32     1.48     0.00     0.00     1.00      2.00   \n",
       "Shops_1       5,000.00     4.24     4.78     0.00     1.00     3.00      6.00   \n",
       "\n",
       "                    max  \n",
       "Id            16,795.00  \n",
       "DistrictId       212.00  \n",
       "Rooms             17.00  \n",
       "Square           223.45  \n",
       "LifeSquare       303.07  \n",
       "KitchenSquare    620.00  \n",
       "Floor             78.00  \n",
       "HouseFloor        99.00  \n",
       "HouseYear      2,020.00  \n",
       "Ecology_1          0.52  \n",
       "Social_1          74.00  \n",
       "Social_2      19,083.00  \n",
       "Social_3         141.00  \n",
       "Healthcare_1   4,849.00  \n",
       "Helthcare_2        6.00  \n",
       "Shops_1           23.00  "
      ]
     },
     "execution_count": 386,
     "metadata": {},
     "output_type": "execute_result"
    }
   ],
   "source": [
    "df_test.describe().T"
   ]
  },
  {
   "cell_type": "markdown",
   "metadata": {
    "colab_type": "text",
    "id": "i9v5WQ6GBCS7"
   },
   "source": [
    "*Разберемся с объектами*"
   ]
  },
  {
   "cell_type": "code",
   "execution_count": 387,
   "metadata": {
    "colab": {},
    "colab_type": "code",
    "id": "o7hhfu_6ijVn"
   },
   "outputs": [
    {
     "data": {
      "text/html": [
       "<div>\n",
       "<style scoped>\n",
       "    .dataframe tbody tr th:only-of-type {\n",
       "        vertical-align: middle;\n",
       "    }\n",
       "\n",
       "    .dataframe tbody tr th {\n",
       "        vertical-align: top;\n",
       "    }\n",
       "\n",
       "    .dataframe thead th {\n",
       "        text-align: right;\n",
       "    }\n",
       "</style>\n",
       "<table border=\"1\" class=\"dataframe\">\n",
       "  <thead>\n",
       "    <tr style=\"text-align: right;\">\n",
       "      <th></th>\n",
       "      <th>Ecology_2</th>\n",
       "      <th>Ecology_3</th>\n",
       "      <th>Shops_2</th>\n",
       "    </tr>\n",
       "  </thead>\n",
       "  <tbody>\n",
       "    <tr>\n",
       "      <th>count</th>\n",
       "      <td>10000</td>\n",
       "      <td>10000</td>\n",
       "      <td>10000</td>\n",
       "    </tr>\n",
       "    <tr>\n",
       "      <th>unique</th>\n",
       "      <td>2</td>\n",
       "      <td>2</td>\n",
       "      <td>2</td>\n",
       "    </tr>\n",
       "    <tr>\n",
       "      <th>top</th>\n",
       "      <td>B</td>\n",
       "      <td>B</td>\n",
       "      <td>B</td>\n",
       "    </tr>\n",
       "    <tr>\n",
       "      <th>freq</th>\n",
       "      <td>9903</td>\n",
       "      <td>9725</td>\n",
       "      <td>9175</td>\n",
       "    </tr>\n",
       "  </tbody>\n",
       "</table>\n",
       "</div>"
      ],
      "text/plain": [
       "       Ecology_2 Ecology_3 Shops_2\n",
       "count      10000     10000   10000\n",
       "unique         2         2       2\n",
       "top            B         B       B\n",
       "freq        9903      9725    9175"
      ]
     },
     "execution_count": 387,
     "metadata": {},
     "output_type": "execute_result"
    }
   ],
   "source": [
    "df_train.describe(include='object')"
   ]
  },
  {
   "cell_type": "markdown",
   "metadata": {},
   "source": [
    "ID района делаем объектом, чтобы модель не думала, что это число"
   ]
  },
  {
   "cell_type": "code",
   "execution_count": 388,
   "metadata": {},
   "outputs": [],
   "source": [
    "df_train['DistrictId'] = df_train['DistrictId'].astype(str)\n",
    "df_test['DistrictId'] = df_test['DistrictId'].astype(str)"
   ]
  },
  {
   "cell_type": "markdown",
   "metadata": {},
   "source": [
    "Категориальные признаки приводим к бинарным"
   ]
  },
  {
   "cell_type": "code",
   "execution_count": 389,
   "metadata": {},
   "outputs": [],
   "source": [
    "feature_bin_names = ['Ecology_2', 'Ecology_3', 'Shops_2']\n",
    "\n",
    "df_train[feature_bin_names] = df_train[feature_bin_names].replace({'A':0, 'B':1})\n",
    "df_test[feature_bin_names] = df_test[feature_bin_names].replace({'A':0, 'B':1})"
   ]
  },
  {
   "cell_type": "markdown",
   "metadata": {},
   "source": [
    "Обработка пропусков"
   ]
  },
  {
   "cell_type": "markdown",
   "metadata": {},
   "source": [
    "Жилая площадь заполнена не у всех. Вычислим отношение Общей площади к Жилой площади для тех, где она известна. Возьмем медиану и на ее основе вычислим Жилую площадь там, где она неизвестна"
   ]
  },
  {
   "cell_type": "code",
   "execution_count": 390,
   "metadata": {
    "colab": {},
    "colab_type": "code",
    "id": "Xp1bt2zjExEH"
   },
   "outputs": [],
   "source": [
    "df_train['Full_to_Life'] = df_train['Square'] / df_train['LifeSquare']\n",
    "df_train['LifeSquare'].fillna((df_train['Square'] / df_train['Full_to_Life'].median()), inplace=True)\n",
    "\n",
    "df_test['LifeSquare'].fillna((df_test['Square'] / df_train['Full_to_Life'].median()), inplace=True)"
   ]
  },
  {
   "cell_type": "code",
   "execution_count": 391,
   "metadata": {},
   "outputs": [
    {
     "data": {
      "text/plain": [
       "Id                  0\n",
       "DistrictId          0\n",
       "Rooms               0\n",
       "Square              0\n",
       "LifeSquare          0\n",
       "KitchenSquare       0\n",
       "Floor               0\n",
       "HouseFloor          0\n",
       "HouseYear           0\n",
       "Ecology_1           0\n",
       "Ecology_2           0\n",
       "Ecology_3           0\n",
       "Social_1            0\n",
       "Social_2            0\n",
       "Social_3            0\n",
       "Healthcare_1     4798\n",
       "Helthcare_2         0\n",
       "Shops_1             0\n",
       "Shops_2             0\n",
       "Price               0\n",
       "Full_to_Life     2113\n",
       "dtype: int64"
      ]
     },
     "execution_count": 391,
     "metadata": {},
     "output_type": "execute_result"
    }
   ],
   "source": [
    "df_train.isna().sum()"
   ]
  },
  {
   "cell_type": "markdown",
   "metadata": {},
   "source": [
    "Пропущенные Healthcare_1 заполним средним Healthcare по району."
   ]
  },
  {
   "cell_type": "code",
   "execution_count": 392,
   "metadata": {},
   "outputs": [],
   "source": [
    "mean_hc1_by_district = df_train.groupby(\"DistrictId\").Healthcare_1.agg(['mean'])\n",
    "mean_hc1_by_district.columns = ['avg']\n",
    "mean_hc1_by_district.reset_index(level='DistrictId', inplace=True)"
   ]
  },
  {
   "cell_type": "code",
   "execution_count": 393,
   "metadata": {},
   "outputs": [],
   "source": [
    "df_train_new = pd.merge(df_train, mean_hc1_by_district, on='DistrictId', how='inner')\n",
    "df_train_new['Healthcare_1'].fillna((df_train_new['avg']), inplace=True)"
   ]
  },
  {
   "cell_type": "code",
   "execution_count": 394,
   "metadata": {},
   "outputs": [],
   "source": [
    "df_test_new = pd.merge(df_test, mean_hc1_by_district, on='DistrictId', how='left')\n",
    "df_test_new['Healthcare_1'].fillna((df_test_new['avg']), inplace=True)"
   ]
  },
  {
   "cell_type": "code",
   "execution_count": 395,
   "metadata": {},
   "outputs": [
    {
     "name": "stdout",
     "output_type": "stream",
     "text": [
      "<class 'pandas.core.frame.DataFrame'>\n",
      "Int64Index: 5000 entries, 0 to 4999\n",
      "Data columns (total 20 columns):\n",
      " #   Column         Non-Null Count  Dtype  \n",
      "---  ------         --------------  -----  \n",
      " 0   Id             5000 non-null   int64  \n",
      " 1   DistrictId     5000 non-null   object \n",
      " 2   Rooms          5000 non-null   float64\n",
      " 3   Square         5000 non-null   float64\n",
      " 4   LifeSquare     5000 non-null   float64\n",
      " 5   KitchenSquare  5000 non-null   float64\n",
      " 6   Floor          5000 non-null   int64  \n",
      " 7   HouseFloor     5000 non-null   float64\n",
      " 8   HouseYear      5000 non-null   int64  \n",
      " 9   Ecology_1      5000 non-null   float64\n",
      " 10  Ecology_2      5000 non-null   int64  \n",
      " 11  Ecology_3      5000 non-null   int64  \n",
      " 12  Social_1       5000 non-null   int64  \n",
      " 13  Social_2       5000 non-null   int64  \n",
      " 14  Social_3       5000 non-null   int64  \n",
      " 15  Healthcare_1   4089 non-null   float64\n",
      " 16  Helthcare_2    5000 non-null   int64  \n",
      " 17  Shops_1        5000 non-null   int64  \n",
      " 18  Shops_2        5000 non-null   int64  \n",
      " 19  avg            4081 non-null   float64\n",
      "dtypes: float64(8), int64(11), object(1)\n",
      "memory usage: 820.3+ KB\n"
     ]
    }
   ],
   "source": [
    "df_test_new.info()"
   ]
  },
  {
   "cell_type": "markdown",
   "metadata": {},
   "source": [
    "Есть районы, по которым даже средний неизвестен. Их Helthcare заполним общим средним"
   ]
  },
  {
   "cell_type": "code",
   "execution_count": 396,
   "metadata": {},
   "outputs": [],
   "source": [
    "df_train_new.loc[df_train_new['Healthcare_1'].isna(), 'Healthcare_1'] = df_train_new['Healthcare_1'].median()\n",
    "df_test_new.loc[df_test_new['Healthcare_1'].isna(), 'Healthcare_1'] = df_train_new['Healthcare_1'].median()"
   ]
  },
  {
   "cell_type": "code",
   "execution_count": 397,
   "metadata": {
    "scrolled": true
   },
   "outputs": [
    {
     "name": "stdout",
     "output_type": "stream",
     "text": [
      "<class 'pandas.core.frame.DataFrame'>\n",
      "Int64Index: 10000 entries, 0 to 9999\n",
      "Data columns (total 22 columns):\n",
      " #   Column         Non-Null Count  Dtype  \n",
      "---  ------         --------------  -----  \n",
      " 0   Id             10000 non-null  int64  \n",
      " 1   DistrictId     10000 non-null  object \n",
      " 2   Rooms          10000 non-null  float64\n",
      " 3   Square         10000 non-null  float64\n",
      " 4   LifeSquare     10000 non-null  float64\n",
      " 5   KitchenSquare  10000 non-null  float64\n",
      " 6   Floor          10000 non-null  int64  \n",
      " 7   HouseFloor     10000 non-null  float64\n",
      " 8   HouseYear      10000 non-null  int64  \n",
      " 9   Ecology_1      10000 non-null  float64\n",
      " 10  Ecology_2      10000 non-null  int64  \n",
      " 11  Ecology_3      10000 non-null  int64  \n",
      " 12  Social_1       10000 non-null  int64  \n",
      " 13  Social_2       10000 non-null  int64  \n",
      " 14  Social_3       10000 non-null  int64  \n",
      " 15  Healthcare_1   10000 non-null  float64\n",
      " 16  Helthcare_2    10000 non-null  int64  \n",
      " 17  Shops_1        10000 non-null  int64  \n",
      " 18  Shops_2        10000 non-null  int64  \n",
      " 19  Price          10000 non-null  float64\n",
      " 20  Full_to_Life   7887 non-null   float64\n",
      " 21  avg            8116 non-null   float64\n",
      "dtypes: float64(10), int64(11), object(1)\n",
      "memory usage: 1.8+ MB\n"
     ]
    }
   ],
   "source": [
    "df_train_new.info()"
   ]
  },
  {
   "cell_type": "markdown",
   "metadata": {},
   "source": [
    "Удалим вспомогательные столбцы Full_to_Life и avg"
   ]
  },
  {
   "cell_type": "code",
   "execution_count": 398,
   "metadata": {},
   "outputs": [],
   "source": [
    "df_train_new.drop(columns=['Full_to_Life', 'avg'], inplace=True)"
   ]
  },
  {
   "cell_type": "code",
   "execution_count": 399,
   "metadata": {},
   "outputs": [],
   "source": [
    "df_test_new.drop(columns=['avg'], inplace=True)"
   ]
  },
  {
   "cell_type": "markdown",
   "metadata": {},
   "source": [
    "Проверим, что теперь все данные заполнены"
   ]
  },
  {
   "cell_type": "code",
   "execution_count": 400,
   "metadata": {},
   "outputs": [
    {
     "name": "stdout",
     "output_type": "stream",
     "text": [
      "<class 'pandas.core.frame.DataFrame'>\n",
      "Int64Index: 10000 entries, 0 to 9999\n",
      "Data columns (total 20 columns):\n",
      " #   Column         Non-Null Count  Dtype  \n",
      "---  ------         --------------  -----  \n",
      " 0   Id             10000 non-null  int64  \n",
      " 1   DistrictId     10000 non-null  object \n",
      " 2   Rooms          10000 non-null  float64\n",
      " 3   Square         10000 non-null  float64\n",
      " 4   LifeSquare     10000 non-null  float64\n",
      " 5   KitchenSquare  10000 non-null  float64\n",
      " 6   Floor          10000 non-null  int64  \n",
      " 7   HouseFloor     10000 non-null  float64\n",
      " 8   HouseYear      10000 non-null  int64  \n",
      " 9   Ecology_1      10000 non-null  float64\n",
      " 10  Ecology_2      10000 non-null  int64  \n",
      " 11  Ecology_3      10000 non-null  int64  \n",
      " 12  Social_1       10000 non-null  int64  \n",
      " 13  Social_2       10000 non-null  int64  \n",
      " 14  Social_3       10000 non-null  int64  \n",
      " 15  Healthcare_1   10000 non-null  float64\n",
      " 16  Helthcare_2    10000 non-null  int64  \n",
      " 17  Shops_1        10000 non-null  int64  \n",
      " 18  Shops_2        10000 non-null  int64  \n",
      " 19  Price          10000 non-null  float64\n",
      "dtypes: float64(8), int64(11), object(1)\n",
      "memory usage: 1.6+ MB\n"
     ]
    }
   ],
   "source": [
    "df_train_new.info()"
   ]
  },
  {
   "cell_type": "code",
   "execution_count": 401,
   "metadata": {},
   "outputs": [
    {
     "name": "stdout",
     "output_type": "stream",
     "text": [
      "<class 'pandas.core.frame.DataFrame'>\n",
      "Int64Index: 5000 entries, 0 to 4999\n",
      "Data columns (total 19 columns):\n",
      " #   Column         Non-Null Count  Dtype  \n",
      "---  ------         --------------  -----  \n",
      " 0   Id             5000 non-null   int64  \n",
      " 1   DistrictId     5000 non-null   object \n",
      " 2   Rooms          5000 non-null   float64\n",
      " 3   Square         5000 non-null   float64\n",
      " 4   LifeSquare     5000 non-null   float64\n",
      " 5   KitchenSquare  5000 non-null   float64\n",
      " 6   Floor          5000 non-null   int64  \n",
      " 7   HouseFloor     5000 non-null   float64\n",
      " 8   HouseYear      5000 non-null   int64  \n",
      " 9   Ecology_1      5000 non-null   float64\n",
      " 10  Ecology_2      5000 non-null   int64  \n",
      " 11  Ecology_3      5000 non-null   int64  \n",
      " 12  Social_1       5000 non-null   int64  \n",
      " 13  Social_2       5000 non-null   int64  \n",
      " 14  Social_3       5000 non-null   int64  \n",
      " 15  Healthcare_1   5000 non-null   float64\n",
      " 16  Helthcare_2    5000 non-null   int64  \n",
      " 17  Shops_1        5000 non-null   int64  \n",
      " 18  Shops_2        5000 non-null   int64  \n",
      "dtypes: float64(7), int64(11), object(1)\n",
      "memory usage: 781.2+ KB\n"
     ]
    }
   ],
   "source": [
    "df_test_new.info()"
   ]
  },
  {
   "cell_type": "markdown",
   "metadata": {},
   "source": [
    "Анализ выбросов"
   ]
  },
  {
   "cell_type": "code",
   "execution_count": 402,
   "metadata": {
    "colab": {
     "base_uri": "https://localhost:8080/",
     "height": 638
    },
    "colab_type": "code",
    "executionInfo": {
     "elapsed": 616,
     "status": "ok",
     "timestamp": 1589540876346,
     "user": {
      "displayName": "Тарас Квитко",
      "photoUrl": "https://lh3.googleusercontent.com/a-/AOh14GjLP9GfiNSLAREzD7OvwZMW6wO991secxbYHStB=s64",
      "userId": "17528970072518703139"
     },
     "user_tz": -180
    },
    "id": "_H2Va9SyBOXS",
    "outputId": "75c2426c-739a-45fd-dab1-b51da84b68e5"
   },
   "outputs": [
    {
     "data": {
      "text/html": [
       "<div>\n",
       "<style scoped>\n",
       "    .dataframe tbody tr th:only-of-type {\n",
       "        vertical-align: middle;\n",
       "    }\n",
       "\n",
       "    .dataframe tbody tr th {\n",
       "        vertical-align: top;\n",
       "    }\n",
       "\n",
       "    .dataframe thead th {\n",
       "        text-align: right;\n",
       "    }\n",
       "</style>\n",
       "<table border=\"1\" class=\"dataframe\">\n",
       "  <thead>\n",
       "    <tr style=\"text-align: right;\">\n",
       "      <th></th>\n",
       "      <th>count</th>\n",
       "      <th>mean</th>\n",
       "      <th>std</th>\n",
       "      <th>min</th>\n",
       "      <th>25%</th>\n",
       "      <th>50%</th>\n",
       "      <th>75%</th>\n",
       "      <th>max</th>\n",
       "    </tr>\n",
       "  </thead>\n",
       "  <tbody>\n",
       "    <tr>\n",
       "      <th>Id</th>\n",
       "      <td>10,000.00</td>\n",
       "      <td>8,383.41</td>\n",
       "      <td>4,859.02</td>\n",
       "      <td>0.00</td>\n",
       "      <td>4,169.50</td>\n",
       "      <td>8,394.50</td>\n",
       "      <td>12,592.50</td>\n",
       "      <td>16,798.00</td>\n",
       "    </tr>\n",
       "    <tr>\n",
       "      <th>Rooms</th>\n",
       "      <td>10,000.00</td>\n",
       "      <td>1.89</td>\n",
       "      <td>0.84</td>\n",
       "      <td>0.00</td>\n",
       "      <td>1.00</td>\n",
       "      <td>2.00</td>\n",
       "      <td>2.00</td>\n",
       "      <td>19.00</td>\n",
       "    </tr>\n",
       "    <tr>\n",
       "      <th>Square</th>\n",
       "      <td>10,000.00</td>\n",
       "      <td>56.32</td>\n",
       "      <td>21.06</td>\n",
       "      <td>1.14</td>\n",
       "      <td>41.77</td>\n",
       "      <td>52.51</td>\n",
       "      <td>65.90</td>\n",
       "      <td>641.07</td>\n",
       "    </tr>\n",
       "    <tr>\n",
       "      <th>LifeSquare</th>\n",
       "      <td>10,000.00</td>\n",
       "      <td>37.21</td>\n",
       "      <td>76.86</td>\n",
       "      <td>0.37</td>\n",
       "      <td>24.24</td>\n",
       "      <td>33.27</td>\n",
       "      <td>44.87</td>\n",
       "      <td>7,480.59</td>\n",
       "    </tr>\n",
       "    <tr>\n",
       "      <th>KitchenSquare</th>\n",
       "      <td>10,000.00</td>\n",
       "      <td>6.27</td>\n",
       "      <td>28.56</td>\n",
       "      <td>0.00</td>\n",
       "      <td>1.00</td>\n",
       "      <td>6.00</td>\n",
       "      <td>9.00</td>\n",
       "      <td>2,014.00</td>\n",
       "    </tr>\n",
       "    <tr>\n",
       "      <th>Floor</th>\n",
       "      <td>10,000.00</td>\n",
       "      <td>8.53</td>\n",
       "      <td>5.24</td>\n",
       "      <td>1.00</td>\n",
       "      <td>4.00</td>\n",
       "      <td>7.00</td>\n",
       "      <td>12.00</td>\n",
       "      <td>42.00</td>\n",
       "    </tr>\n",
       "    <tr>\n",
       "      <th>HouseFloor</th>\n",
       "      <td>10,000.00</td>\n",
       "      <td>12.61</td>\n",
       "      <td>6.78</td>\n",
       "      <td>0.00</td>\n",
       "      <td>9.00</td>\n",
       "      <td>13.00</td>\n",
       "      <td>17.00</td>\n",
       "      <td>117.00</td>\n",
       "    </tr>\n",
       "    <tr>\n",
       "      <th>HouseYear</th>\n",
       "      <td>10,000.00</td>\n",
       "      <td>3,990.17</td>\n",
       "      <td>200,500.26</td>\n",
       "      <td>1,910.00</td>\n",
       "      <td>1,974.00</td>\n",
       "      <td>1,977.00</td>\n",
       "      <td>2,001.00</td>\n",
       "      <td>20,052,011.00</td>\n",
       "    </tr>\n",
       "    <tr>\n",
       "      <th>Ecology_1</th>\n",
       "      <td>10,000.00</td>\n",
       "      <td>0.12</td>\n",
       "      <td>0.12</td>\n",
       "      <td>0.00</td>\n",
       "      <td>0.02</td>\n",
       "      <td>0.08</td>\n",
       "      <td>0.20</td>\n",
       "      <td>0.52</td>\n",
       "    </tr>\n",
       "    <tr>\n",
       "      <th>Ecology_2</th>\n",
       "      <td>10,000.00</td>\n",
       "      <td>0.99</td>\n",
       "      <td>0.10</td>\n",
       "      <td>0.00</td>\n",
       "      <td>1.00</td>\n",
       "      <td>1.00</td>\n",
       "      <td>1.00</td>\n",
       "      <td>1.00</td>\n",
       "    </tr>\n",
       "    <tr>\n",
       "      <th>Ecology_3</th>\n",
       "      <td>10,000.00</td>\n",
       "      <td>0.97</td>\n",
       "      <td>0.16</td>\n",
       "      <td>0.00</td>\n",
       "      <td>1.00</td>\n",
       "      <td>1.00</td>\n",
       "      <td>1.00</td>\n",
       "      <td>1.00</td>\n",
       "    </tr>\n",
       "    <tr>\n",
       "      <th>Social_1</th>\n",
       "      <td>10,000.00</td>\n",
       "      <td>24.69</td>\n",
       "      <td>17.53</td>\n",
       "      <td>0.00</td>\n",
       "      <td>6.00</td>\n",
       "      <td>25.00</td>\n",
       "      <td>36.00</td>\n",
       "      <td>74.00</td>\n",
       "    </tr>\n",
       "    <tr>\n",
       "      <th>Social_2</th>\n",
       "      <td>10,000.00</td>\n",
       "      <td>5,352.16</td>\n",
       "      <td>4,006.80</td>\n",
       "      <td>168.00</td>\n",
       "      <td>1,564.00</td>\n",
       "      <td>5,285.00</td>\n",
       "      <td>7,227.00</td>\n",
       "      <td>19,083.00</td>\n",
       "    </tr>\n",
       "    <tr>\n",
       "      <th>Social_3</th>\n",
       "      <td>10,000.00</td>\n",
       "      <td>8.04</td>\n",
       "      <td>23.83</td>\n",
       "      <td>0.00</td>\n",
       "      <td>0.00</td>\n",
       "      <td>2.00</td>\n",
       "      <td>5.00</td>\n",
       "      <td>141.00</td>\n",
       "    </tr>\n",
       "    <tr>\n",
       "      <th>Healthcare_1</th>\n",
       "      <td>10,000.00</td>\n",
       "      <td>996.13</td>\n",
       "      <td>920.67</td>\n",
       "      <td>0.00</td>\n",
       "      <td>240.00</td>\n",
       "      <td>770.00</td>\n",
       "      <td>1,322.00</td>\n",
       "      <td>4,849.00</td>\n",
       "    </tr>\n",
       "    <tr>\n",
       "      <th>Helthcare_2</th>\n",
       "      <td>10,000.00</td>\n",
       "      <td>1.32</td>\n",
       "      <td>1.49</td>\n",
       "      <td>0.00</td>\n",
       "      <td>0.00</td>\n",
       "      <td>1.00</td>\n",
       "      <td>2.00</td>\n",
       "      <td>6.00</td>\n",
       "    </tr>\n",
       "    <tr>\n",
       "      <th>Shops_1</th>\n",
       "      <td>10,000.00</td>\n",
       "      <td>4.23</td>\n",
       "      <td>4.81</td>\n",
       "      <td>0.00</td>\n",
       "      <td>1.00</td>\n",
       "      <td>3.00</td>\n",
       "      <td>6.00</td>\n",
       "      <td>23.00</td>\n",
       "    </tr>\n",
       "    <tr>\n",
       "      <th>Shops_2</th>\n",
       "      <td>10,000.00</td>\n",
       "      <td>0.92</td>\n",
       "      <td>0.28</td>\n",
       "      <td>0.00</td>\n",
       "      <td>1.00</td>\n",
       "      <td>1.00</td>\n",
       "      <td>1.00</td>\n",
       "      <td>1.00</td>\n",
       "    </tr>\n",
       "    <tr>\n",
       "      <th>Price</th>\n",
       "      <td>10,000.00</td>\n",
       "      <td>214,138.86</td>\n",
       "      <td>92,872.29</td>\n",
       "      <td>59,174.78</td>\n",
       "      <td>153,872.63</td>\n",
       "      <td>192,269.64</td>\n",
       "      <td>249,135.46</td>\n",
       "      <td>633,233.47</td>\n",
       "    </tr>\n",
       "  </tbody>\n",
       "</table>\n",
       "</div>"
      ],
      "text/plain": [
       "                  count       mean        std       min        25%        50%  \\\n",
       "Id            10,000.00   8,383.41   4,859.02      0.00   4,169.50   8,394.50   \n",
       "Rooms         10,000.00       1.89       0.84      0.00       1.00       2.00   \n",
       "Square        10,000.00      56.32      21.06      1.14      41.77      52.51   \n",
       "LifeSquare    10,000.00      37.21      76.86      0.37      24.24      33.27   \n",
       "KitchenSquare 10,000.00       6.27      28.56      0.00       1.00       6.00   \n",
       "Floor         10,000.00       8.53       5.24      1.00       4.00       7.00   \n",
       "HouseFloor    10,000.00      12.61       6.78      0.00       9.00      13.00   \n",
       "HouseYear     10,000.00   3,990.17 200,500.26  1,910.00   1,974.00   1,977.00   \n",
       "Ecology_1     10,000.00       0.12       0.12      0.00       0.02       0.08   \n",
       "Ecology_2     10,000.00       0.99       0.10      0.00       1.00       1.00   \n",
       "Ecology_3     10,000.00       0.97       0.16      0.00       1.00       1.00   \n",
       "Social_1      10,000.00      24.69      17.53      0.00       6.00      25.00   \n",
       "Social_2      10,000.00   5,352.16   4,006.80    168.00   1,564.00   5,285.00   \n",
       "Social_3      10,000.00       8.04      23.83      0.00       0.00       2.00   \n",
       "Healthcare_1  10,000.00     996.13     920.67      0.00     240.00     770.00   \n",
       "Helthcare_2   10,000.00       1.32       1.49      0.00       0.00       1.00   \n",
       "Shops_1       10,000.00       4.23       4.81      0.00       1.00       3.00   \n",
       "Shops_2       10,000.00       0.92       0.28      0.00       1.00       1.00   \n",
       "Price         10,000.00 214,138.86  92,872.29 59,174.78 153,872.63 192,269.64   \n",
       "\n",
       "                     75%           max  \n",
       "Id             12,592.50     16,798.00  \n",
       "Rooms               2.00         19.00  \n",
       "Square             65.90        641.07  \n",
       "LifeSquare         44.87      7,480.59  \n",
       "KitchenSquare       9.00      2,014.00  \n",
       "Floor              12.00         42.00  \n",
       "HouseFloor         17.00        117.00  \n",
       "HouseYear       2,001.00 20,052,011.00  \n",
       "Ecology_1           0.20          0.52  \n",
       "Ecology_2           1.00          1.00  \n",
       "Ecology_3           1.00          1.00  \n",
       "Social_1           36.00         74.00  \n",
       "Social_2        7,227.00     19,083.00  \n",
       "Social_3            5.00        141.00  \n",
       "Healthcare_1    1,322.00      4,849.00  \n",
       "Helthcare_2         2.00          6.00  \n",
       "Shops_1             6.00         23.00  \n",
       "Shops_2             1.00          1.00  \n",
       "Price         249,135.46    633,233.47  "
      ]
     },
     "execution_count": 402,
     "metadata": {},
     "output_type": "execute_result"
    }
   ],
   "source": [
    "df_train_new.describe().T"
   ]
  },
  {
   "cell_type": "markdown",
   "metadata": {},
   "source": [
    "Rooms"
   ]
  },
  {
   "cell_type": "code",
   "execution_count": 403,
   "metadata": {
    "colab": {
     "base_uri": "https://localhost:8080/",
     "height": 80
    },
    "colab_type": "code",
    "executionInfo": {
     "elapsed": 1251,
     "status": "ok",
     "timestamp": 1589542359318,
     "user": {
      "displayName": "Тарас Квитко",
      "photoUrl": "https://lh3.googleusercontent.com/a-/AOh14GjLP9GfiNSLAREzD7OvwZMW6wO991secxbYHStB=s64",
      "userId": "17528970072518703139"
     },
     "user_tz": -180
    },
    "id": "58eGUMs86pkb",
    "outputId": "a2467a1d-704d-4f8f-c9ed-07cbe7b00a26"
   },
   "outputs": [
    {
     "data": {
      "text/html": [
       "<div>\n",
       "<style scoped>\n",
       "    .dataframe tbody tr th:only-of-type {\n",
       "        vertical-align: middle;\n",
       "    }\n",
       "\n",
       "    .dataframe tbody tr th {\n",
       "        vertical-align: top;\n",
       "    }\n",
       "\n",
       "    .dataframe thead th {\n",
       "        text-align: right;\n",
       "    }\n",
       "</style>\n",
       "<table border=\"1\" class=\"dataframe\">\n",
       "  <thead>\n",
       "    <tr style=\"text-align: right;\">\n",
       "      <th></th>\n",
       "      <th>Id</th>\n",
       "      <th>DistrictId</th>\n",
       "      <th>Rooms</th>\n",
       "      <th>Square</th>\n",
       "      <th>LifeSquare</th>\n",
       "      <th>KitchenSquare</th>\n",
       "      <th>Floor</th>\n",
       "      <th>HouseFloor</th>\n",
       "      <th>HouseYear</th>\n",
       "      <th>Ecology_1</th>\n",
       "      <th>Ecology_2</th>\n",
       "      <th>Ecology_3</th>\n",
       "      <th>Social_1</th>\n",
       "      <th>Social_2</th>\n",
       "      <th>Social_3</th>\n",
       "      <th>Healthcare_1</th>\n",
       "      <th>Helthcare_2</th>\n",
       "      <th>Shops_1</th>\n",
       "      <th>Shops_2</th>\n",
       "      <th>Price</th>\n",
       "    </tr>\n",
       "  </thead>\n",
       "  <tbody>\n",
       "    <tr>\n",
       "      <th>483</th>\n",
       "      <td>14003</td>\n",
       "      <td>99</td>\n",
       "      <td>6.00</td>\n",
       "      <td>59.41</td>\n",
       "      <td>38.70</td>\n",
       "      <td>6.00</td>\n",
       "      <td>7</td>\n",
       "      <td>9.00</td>\n",
       "      <td>1969</td>\n",
       "      <td>0.03</td>\n",
       "      <td>1</td>\n",
       "      <td>1</td>\n",
       "      <td>66</td>\n",
       "      <td>10573</td>\n",
       "      <td>1</td>\n",
       "      <td>1,322.00</td>\n",
       "      <td>3</td>\n",
       "      <td>8</td>\n",
       "      <td>1</td>\n",
       "      <td>229,661.96</td>\n",
       "    </tr>\n",
       "    <tr>\n",
       "      <th>828</th>\n",
       "      <td>8491</td>\n",
       "      <td>1</td>\n",
       "      <td>19.00</td>\n",
       "      <td>42.01</td>\n",
       "      <td>21.78</td>\n",
       "      <td>7.00</td>\n",
       "      <td>17</td>\n",
       "      <td>17.00</td>\n",
       "      <td>2014</td>\n",
       "      <td>0.01</td>\n",
       "      <td>1</td>\n",
       "      <td>1</td>\n",
       "      <td>1</td>\n",
       "      <td>264</td>\n",
       "      <td>0</td>\n",
       "      <td>228.77</td>\n",
       "      <td>0</td>\n",
       "      <td>1</td>\n",
       "      <td>1</td>\n",
       "      <td>78,364.62</td>\n",
       "    </tr>\n",
       "    <tr>\n",
       "      <th>1998</th>\n",
       "      <td>770</td>\n",
       "      <td>28</td>\n",
       "      <td>0.00</td>\n",
       "      <td>49.48</td>\n",
       "      <td>30.56</td>\n",
       "      <td>0.00</td>\n",
       "      <td>16</td>\n",
       "      <td>0.00</td>\n",
       "      <td>2015</td>\n",
       "      <td>0.12</td>\n",
       "      <td>1</td>\n",
       "      <td>1</td>\n",
       "      <td>30</td>\n",
       "      <td>6207</td>\n",
       "      <td>1</td>\n",
       "      <td>1,183.00</td>\n",
       "      <td>1</td>\n",
       "      <td>0</td>\n",
       "      <td>1</td>\n",
       "      <td>217,009.34</td>\n",
       "    </tr>\n",
       "    <tr>\n",
       "      <th>2206</th>\n",
       "      <td>5927</td>\n",
       "      <td>57</td>\n",
       "      <td>10.00</td>\n",
       "      <td>59.06</td>\n",
       "      <td>36.22</td>\n",
       "      <td>10.00</td>\n",
       "      <td>22</td>\n",
       "      <td>22.00</td>\n",
       "      <td>2002</td>\n",
       "      <td>0.09</td>\n",
       "      <td>1</td>\n",
       "      <td>1</td>\n",
       "      <td>74</td>\n",
       "      <td>19083</td>\n",
       "      <td>2</td>\n",
       "      <td>1,288.27</td>\n",
       "      <td>5</td>\n",
       "      <td>15</td>\n",
       "      <td>1</td>\n",
       "      <td>317,265.32</td>\n",
       "    </tr>\n",
       "    <tr>\n",
       "      <th>2439</th>\n",
       "      <td>12638</td>\n",
       "      <td>27</td>\n",
       "      <td>0.00</td>\n",
       "      <td>138.43</td>\n",
       "      <td>136.22</td>\n",
       "      <td>0.00</td>\n",
       "      <td>4</td>\n",
       "      <td>3.00</td>\n",
       "      <td>2016</td>\n",
       "      <td>0.08</td>\n",
       "      <td>1</td>\n",
       "      <td>1</td>\n",
       "      <td>11</td>\n",
       "      <td>3097</td>\n",
       "      <td>0</td>\n",
       "      <td>770.00</td>\n",
       "      <td>0</td>\n",
       "      <td>0</td>\n",
       "      <td>1</td>\n",
       "      <td>268,394.74</td>\n",
       "    </tr>\n",
       "    <tr>\n",
       "      <th>2489</th>\n",
       "      <td>7917</td>\n",
       "      <td>27</td>\n",
       "      <td>0.00</td>\n",
       "      <td>212.93</td>\n",
       "      <td>211.23</td>\n",
       "      <td>0.00</td>\n",
       "      <td>2</td>\n",
       "      <td>3.00</td>\n",
       "      <td>2008</td>\n",
       "      <td>0.21</td>\n",
       "      <td>1</td>\n",
       "      <td>1</td>\n",
       "      <td>9</td>\n",
       "      <td>1892</td>\n",
       "      <td>0</td>\n",
       "      <td>770.00</td>\n",
       "      <td>0</td>\n",
       "      <td>1</td>\n",
       "      <td>1</td>\n",
       "      <td>302,211.26</td>\n",
       "    </tr>\n",
       "    <tr>\n",
       "      <th>2517</th>\n",
       "      <td>7317</td>\n",
       "      <td>27</td>\n",
       "      <td>0.00</td>\n",
       "      <td>41.79</td>\n",
       "      <td>25.81</td>\n",
       "      <td>0.00</td>\n",
       "      <td>13</td>\n",
       "      <td>0.00</td>\n",
       "      <td>1977</td>\n",
       "      <td>0.21</td>\n",
       "      <td>1</td>\n",
       "      <td>1</td>\n",
       "      <td>9</td>\n",
       "      <td>1892</td>\n",
       "      <td>0</td>\n",
       "      <td>770.00</td>\n",
       "      <td>0</td>\n",
       "      <td>1</td>\n",
       "      <td>1</td>\n",
       "      <td>98,129.98</td>\n",
       "    </tr>\n",
       "    <tr>\n",
       "      <th>2748</th>\n",
       "      <td>3224</td>\n",
       "      <td>27</td>\n",
       "      <td>0.00</td>\n",
       "      <td>2.38</td>\n",
       "      <td>0.87</td>\n",
       "      <td>0.00</td>\n",
       "      <td>1</td>\n",
       "      <td>0.00</td>\n",
       "      <td>1977</td>\n",
       "      <td>0.02</td>\n",
       "      <td>1</td>\n",
       "      <td>1</td>\n",
       "      <td>2</td>\n",
       "      <td>469</td>\n",
       "      <td>0</td>\n",
       "      <td>770.00</td>\n",
       "      <td>0</td>\n",
       "      <td>0</td>\n",
       "      <td>1</td>\n",
       "      <td>126,596.94</td>\n",
       "    </tr>\n",
       "    <tr>\n",
       "      <th>3052</th>\n",
       "      <td>9443</td>\n",
       "      <td>27</td>\n",
       "      <td>0.00</td>\n",
       "      <td>87.76</td>\n",
       "      <td>85.13</td>\n",
       "      <td>0.00</td>\n",
       "      <td>5</td>\n",
       "      <td>15.00</td>\n",
       "      <td>1977</td>\n",
       "      <td>0.21</td>\n",
       "      <td>1</td>\n",
       "      <td>1</td>\n",
       "      <td>9</td>\n",
       "      <td>1892</td>\n",
       "      <td>0</td>\n",
       "      <td>770.00</td>\n",
       "      <td>0</td>\n",
       "      <td>1</td>\n",
       "      <td>1</td>\n",
       "      <td>219,281.92</td>\n",
       "    </tr>\n",
       "    <tr>\n",
       "      <th>4537</th>\n",
       "      <td>3159</td>\n",
       "      <td>88</td>\n",
       "      <td>0.00</td>\n",
       "      <td>38.70</td>\n",
       "      <td>19.35</td>\n",
       "      <td>9.00</td>\n",
       "      <td>9</td>\n",
       "      <td>16.00</td>\n",
       "      <td>1982</td>\n",
       "      <td>0.13</td>\n",
       "      <td>1</td>\n",
       "      <td>1</td>\n",
       "      <td>43</td>\n",
       "      <td>8429</td>\n",
       "      <td>3</td>\n",
       "      <td>770.00</td>\n",
       "      <td>3</td>\n",
       "      <td>9</td>\n",
       "      <td>1</td>\n",
       "      <td>158,998.11</td>\n",
       "    </tr>\n",
       "    <tr>\n",
       "      <th>4876</th>\n",
       "      <td>456</td>\n",
       "      <td>6</td>\n",
       "      <td>0.00</td>\n",
       "      <td>81.49</td>\n",
       "      <td>50.32</td>\n",
       "      <td>0.00</td>\n",
       "      <td>4</td>\n",
       "      <td>0.00</td>\n",
       "      <td>1977</td>\n",
       "      <td>0.24</td>\n",
       "      <td>1</td>\n",
       "      <td>1</td>\n",
       "      <td>5</td>\n",
       "      <td>1564</td>\n",
       "      <td>0</td>\n",
       "      <td>540.00</td>\n",
       "      <td>0</td>\n",
       "      <td>0</td>\n",
       "      <td>1</td>\n",
       "      <td>212,864.80</td>\n",
       "    </tr>\n",
       "    <tr>\n",
       "      <th>5911</th>\n",
       "      <td>14865</td>\n",
       "      <td>9</td>\n",
       "      <td>10.00</td>\n",
       "      <td>60.87</td>\n",
       "      <td>38.42</td>\n",
       "      <td>10.00</td>\n",
       "      <td>3</td>\n",
       "      <td>2.00</td>\n",
       "      <td>1994</td>\n",
       "      <td>0.16</td>\n",
       "      <td>1</td>\n",
       "      <td>1</td>\n",
       "      <td>25</td>\n",
       "      <td>5648</td>\n",
       "      <td>1</td>\n",
       "      <td>30.00</td>\n",
       "      <td>2</td>\n",
       "      <td>4</td>\n",
       "      <td>1</td>\n",
       "      <td>172,329.27</td>\n",
       "    </tr>\n",
       "  </tbody>\n",
       "</table>\n",
       "</div>"
      ],
      "text/plain": [
       "         Id DistrictId  Rooms  Square  LifeSquare  KitchenSquare  Floor  \\\n",
       "483   14003         99   6.00   59.41       38.70           6.00      7   \n",
       "828    8491          1  19.00   42.01       21.78           7.00     17   \n",
       "1998    770         28   0.00   49.48       30.56           0.00     16   \n",
       "2206   5927         57  10.00   59.06       36.22          10.00     22   \n",
       "2439  12638         27   0.00  138.43      136.22           0.00      4   \n",
       "2489   7917         27   0.00  212.93      211.23           0.00      2   \n",
       "2517   7317         27   0.00   41.79       25.81           0.00     13   \n",
       "2748   3224         27   0.00    2.38        0.87           0.00      1   \n",
       "3052   9443         27   0.00   87.76       85.13           0.00      5   \n",
       "4537   3159         88   0.00   38.70       19.35           9.00      9   \n",
       "4876    456          6   0.00   81.49       50.32           0.00      4   \n",
       "5911  14865          9  10.00   60.87       38.42          10.00      3   \n",
       "\n",
       "      HouseFloor  HouseYear  Ecology_1  Ecology_2  Ecology_3  Social_1  \\\n",
       "483         9.00       1969       0.03          1          1        66   \n",
       "828        17.00       2014       0.01          1          1         1   \n",
       "1998        0.00       2015       0.12          1          1        30   \n",
       "2206       22.00       2002       0.09          1          1        74   \n",
       "2439        3.00       2016       0.08          1          1        11   \n",
       "2489        3.00       2008       0.21          1          1         9   \n",
       "2517        0.00       1977       0.21          1          1         9   \n",
       "2748        0.00       1977       0.02          1          1         2   \n",
       "3052       15.00       1977       0.21          1          1         9   \n",
       "4537       16.00       1982       0.13          1          1        43   \n",
       "4876        0.00       1977       0.24          1          1         5   \n",
       "5911        2.00       1994       0.16          1          1        25   \n",
       "\n",
       "      Social_2  Social_3  Healthcare_1  Helthcare_2  Shops_1  Shops_2  \\\n",
       "483      10573         1      1,322.00            3        8        1   \n",
       "828        264         0        228.77            0        1        1   \n",
       "1998      6207         1      1,183.00            1        0        1   \n",
       "2206     19083         2      1,288.27            5       15        1   \n",
       "2439      3097         0        770.00            0        0        1   \n",
       "2489      1892         0        770.00            0        1        1   \n",
       "2517      1892         0        770.00            0        1        1   \n",
       "2748       469         0        770.00            0        0        1   \n",
       "3052      1892         0        770.00            0        1        1   \n",
       "4537      8429         3        770.00            3        9        1   \n",
       "4876      1564         0        540.00            0        0        1   \n",
       "5911      5648         1         30.00            2        4        1   \n",
       "\n",
       "          Price  \n",
       "483  229,661.96  \n",
       "828   78,364.62  \n",
       "1998 217,009.34  \n",
       "2206 317,265.32  \n",
       "2439 268,394.74  \n",
       "2489 302,211.26  \n",
       "2517  98,129.98  \n",
       "2748 126,596.94  \n",
       "3052 219,281.92  \n",
       "4537 158,998.11  \n",
       "4876 212,864.80  \n",
       "5911 172,329.27  "
      ]
     },
     "execution_count": 403,
     "metadata": {},
     "output_type": "execute_result"
    }
   ],
   "source": [
    "df_train_new[(df_train_new['Rooms'] > 5) | (df_train_new['Rooms'] < 1)]"
   ]
  },
  {
   "cell_type": "markdown",
   "metadata": {
    "colab_type": "text",
    "id": "XgMAqTQT6Oc1"
   },
   "source": [
    "Обнаружено, что у 12 квартир количество комнат 0 или больше 5. Заменим эти данные на медиану."
   ]
  },
  {
   "cell_type": "code",
   "execution_count": 404,
   "metadata": {
    "colab": {
     "base_uri": "https://localhost:8080/",
     "height": 34
    },
    "colab_type": "code",
    "executionInfo": {
     "elapsed": 668,
     "status": "ok",
     "timestamp": 1589540378426,
     "user": {
      "displayName": "Тарас Квитко",
      "photoUrl": "https://lh3.googleusercontent.com/a-/AOh14GjLP9GfiNSLAREzD7OvwZMW6wO991secxbYHStB=s64",
      "userId": "17528970072518703139"
     },
     "user_tz": -180
    },
    "id": "2rtHGsN5-0Em",
    "outputId": "53473e8a-b2ab-428c-9796-7894b0766f68"
   },
   "outputs": [],
   "source": [
    "df_train_new.loc[(df_train_new['Rooms'] > 5)|(df_train_new['Rooms'] < 1), 'Rooms'] = df_train_new['Rooms'].mode()[0]\n",
    "df_test_new.loc[(df_test_new['Rooms'] > 5)|(df_test_new['Rooms'] < 1), 'Rooms'] = df_train_new['Rooms'].mode()[0] "
   ]
  },
  {
   "cell_type": "markdown",
   "metadata": {},
   "source": [
    "Обработка площадей"
   ]
  },
  {
   "cell_type": "code",
   "execution_count": 405,
   "metadata": {},
   "outputs": [
    {
     "data": {
      "text/html": [
       "<div>\n",
       "<style scoped>\n",
       "    .dataframe tbody tr th:only-of-type {\n",
       "        vertical-align: middle;\n",
       "    }\n",
       "\n",
       "    .dataframe tbody tr th {\n",
       "        vertical-align: top;\n",
       "    }\n",
       "\n",
       "    .dataframe thead th {\n",
       "        text-align: right;\n",
       "    }\n",
       "</style>\n",
       "<table border=\"1\" class=\"dataframe\">\n",
       "  <thead>\n",
       "    <tr style=\"text-align: right;\">\n",
       "      <th></th>\n",
       "      <th>Square</th>\n",
       "      <th>LifeSquare</th>\n",
       "      <th>KitchenSquare</th>\n",
       "    </tr>\n",
       "  </thead>\n",
       "  <tbody>\n",
       "    <tr>\n",
       "      <th>count</th>\n",
       "      <td>10,000.00</td>\n",
       "      <td>10,000.00</td>\n",
       "      <td>10,000.00</td>\n",
       "    </tr>\n",
       "    <tr>\n",
       "      <th>mean</th>\n",
       "      <td>56.32</td>\n",
       "      <td>37.21</td>\n",
       "      <td>6.27</td>\n",
       "    </tr>\n",
       "    <tr>\n",
       "      <th>std</th>\n",
       "      <td>21.06</td>\n",
       "      <td>76.86</td>\n",
       "      <td>28.56</td>\n",
       "    </tr>\n",
       "    <tr>\n",
       "      <th>min</th>\n",
       "      <td>1.14</td>\n",
       "      <td>0.37</td>\n",
       "      <td>0.00</td>\n",
       "    </tr>\n",
       "    <tr>\n",
       "      <th>25%</th>\n",
       "      <td>41.77</td>\n",
       "      <td>24.24</td>\n",
       "      <td>1.00</td>\n",
       "    </tr>\n",
       "    <tr>\n",
       "      <th>50%</th>\n",
       "      <td>52.51</td>\n",
       "      <td>33.27</td>\n",
       "      <td>6.00</td>\n",
       "    </tr>\n",
       "    <tr>\n",
       "      <th>75%</th>\n",
       "      <td>65.90</td>\n",
       "      <td>44.87</td>\n",
       "      <td>9.00</td>\n",
       "    </tr>\n",
       "    <tr>\n",
       "      <th>max</th>\n",
       "      <td>641.07</td>\n",
       "      <td>7,480.59</td>\n",
       "      <td>2,014.00</td>\n",
       "    </tr>\n",
       "  </tbody>\n",
       "</table>\n",
       "</div>"
      ],
      "text/plain": [
       "         Square  LifeSquare  KitchenSquare\n",
       "count 10,000.00   10,000.00      10,000.00\n",
       "mean      56.32       37.21           6.27\n",
       "std       21.06       76.86          28.56\n",
       "min        1.14        0.37           0.00\n",
       "25%       41.77       24.24           1.00\n",
       "50%       52.51       33.27           6.00\n",
       "75%       65.90       44.87           9.00\n",
       "max      641.07    7,480.59       2,014.00"
      ]
     },
     "execution_count": 405,
     "metadata": {},
     "output_type": "execute_result"
    }
   ],
   "source": [
    "df_train_new[['Square', 'LifeSquare', 'KitchenSquare']].describe()"
   ]
  },
  {
   "cell_type": "code",
   "execution_count": 406,
   "metadata": {},
   "outputs": [],
   "source": [
    "df_train_new.loc[(df_train_new['KitchenSquare'] > 100) | \\\n",
    "             (df_train_new['KitchenSquare'] > df_train_new['Square']),\n",
    "             'KitchenSquare'] = df_train_new['KitchenSquare'].median()\n",
    "\n",
    "df_test_new.loc[(df_test_new['KitchenSquare'] > 100) | \\\n",
    "            (df_test_new['KitchenSquare'] > df_test_new['Square']),\n",
    "            'KitchenSquare'] = df_train_new['KitchenSquare'].median()"
   ]
  },
  {
   "cell_type": "code",
   "execution_count": 407,
   "metadata": {},
   "outputs": [
    {
     "data": {
      "image/png": "[encoded data removed]",
      "text/plain": [
       "<Figure size 360x360 with 3 Axes>"
      ]
     },
     "metadata": {},
     "output_type": "display_data"
    }
   ],
   "source": [
    "sns.jointplot(df_train_new['LifeSquare'], df_train_new['Price'], kind='scatter', height=5);"
   ]
  },
  {
   "cell_type": "code",
   "execution_count": 408,
   "metadata": {},
   "outputs": [],
   "source": [
    "df_train_new.loc[(df_train_new['LifeSquare'] > 400), 'LifeSquare'] = \\\n",
    "        df_train_new['LifeSquare'].median()\n",
    "\n",
    "df_test_new.loc[(df_test_new['LifeSquare'] > 400), 'LifeSquare'] = \\\n",
    "        df_train_new['LifeSquare'].median()"
   ]
  },
  {
   "cell_type": "code",
   "execution_count": 409,
   "metadata": {},
   "outputs": [
    {
     "data": {
      "image/png": "[encoded data removed]",
      "text/plain": [
       "<Figure size 360x360 with 3 Axes>"
      ]
     },
     "metadata": {},
     "output_type": "display_data"
    }
   ],
   "source": [
    "sns.jointplot(df_train_new['Square'], df_train_new['Price'], kind='scatter', height=5);"
   ]
  },
  {
   "cell_type": "code",
   "execution_count": 410,
   "metadata": {},
   "outputs": [],
   "source": [
    "df_train_new.loc[(df_train_new['Square'] > 400) | (df_train_new['Square'] < 6), 'Square'] = \\\n",
    "            df_train_new['Square'].median()\n",
    "\n",
    "df_test_new.loc[(df_test_new['Square'] > 400) | (df_test_new['Square'] < 6), 'Square'] = \\\n",
    "            df_train_new['Square'].median()"
   ]
  },
  {
   "cell_type": "code",
   "execution_count": 411,
   "metadata": {},
   "outputs": [
    {
     "data": {
      "text/plain": [
       "832"
      ]
     },
     "execution_count": 411,
     "metadata": {},
     "output_type": "execute_result"
    }
   ],
   "source": [
    "len(df_train_new[(df_train_new['Square'] < df_train_new['LifeSquare'] + df_train_new['KitchenSquare'])])"
   ]
  },
  {
   "cell_type": "code",
   "execution_count": 412,
   "metadata": {},
   "outputs": [],
   "source": [
    "df_train_new.loc[(df_train_new['Square'] < df_train_new['LifeSquare'] + df_train_new['KitchenSquare']), 'Square'] = \\\n",
    "    df_train_new['LifeSquare'] + df_train_new['KitchenSquare']\n",
    "\n",
    "df_test_new.loc[(df_test_new['Square'] < df_test_new['LifeSquare'] + df_test_new['KitchenSquare']), 'Square'] = \\\n",
    "    df_test_new['LifeSquare'] + df_test_new['KitchenSquare']"
   ]
  },
  {
   "cell_type": "code",
   "execution_count": 413,
   "metadata": {},
   "outputs": [
    {
     "data": {
      "text/html": [
       "<div>\n",
       "<style scoped>\n",
       "    .dataframe tbody tr th:only-of-type {\n",
       "        vertical-align: middle;\n",
       "    }\n",
       "\n",
       "    .dataframe tbody tr th {\n",
       "        vertical-align: top;\n",
       "    }\n",
       "\n",
       "    .dataframe thead th {\n",
       "        text-align: right;\n",
       "    }\n",
       "</style>\n",
       "<table border=\"1\" class=\"dataframe\">\n",
       "  <thead>\n",
       "    <tr style=\"text-align: right;\">\n",
       "      <th></th>\n",
       "      <th>Square</th>\n",
       "      <th>LifeSquare</th>\n",
       "      <th>KitchenSquare</th>\n",
       "    </tr>\n",
       "  </thead>\n",
       "  <tbody>\n",
       "    <tr>\n",
       "      <th>count</th>\n",
       "      <td>10,000.00</td>\n",
       "      <td>10,000.00</td>\n",
       "      <td>10,000.00</td>\n",
       "    </tr>\n",
       "    <tr>\n",
       "      <th>mean</th>\n",
       "      <td>56.78</td>\n",
       "      <td>36.33</td>\n",
       "      <td>5.83</td>\n",
       "    </tr>\n",
       "    <tr>\n",
       "      <th>std</th>\n",
       "      <td>19.81</td>\n",
       "      <td>17.27</td>\n",
       "      <td>4.70</td>\n",
       "    </tr>\n",
       "    <tr>\n",
       "      <th>min</th>\n",
       "      <td>16.12</td>\n",
       "      <td>0.37</td>\n",
       "      <td>0.00</td>\n",
       "    </tr>\n",
       "    <tr>\n",
       "      <th>25%</th>\n",
       "      <td>42.12</td>\n",
       "      <td>24.24</td>\n",
       "      <td>1.00</td>\n",
       "    </tr>\n",
       "    <tr>\n",
       "      <th>50%</th>\n",
       "      <td>52.95</td>\n",
       "      <td>33.27</td>\n",
       "      <td>6.00</td>\n",
       "    </tr>\n",
       "    <tr>\n",
       "      <th>75%</th>\n",
       "      <td>66.35</td>\n",
       "      <td>44.86</td>\n",
       "      <td>9.00</td>\n",
       "    </tr>\n",
       "    <tr>\n",
       "      <th>max</th>\n",
       "      <td>374.42</td>\n",
       "      <td>373.42</td>\n",
       "      <td>96.00</td>\n",
       "    </tr>\n",
       "  </tbody>\n",
       "</table>\n",
       "</div>"
      ],
      "text/plain": [
       "         Square  LifeSquare  KitchenSquare\n",
       "count 10,000.00   10,000.00      10,000.00\n",
       "mean      56.78       36.33           5.83\n",
       "std       19.81       17.27           4.70\n",
       "min       16.12        0.37           0.00\n",
       "25%       42.12       24.24           1.00\n",
       "50%       52.95       33.27           6.00\n",
       "75%       66.35       44.86           9.00\n",
       "max      374.42      373.42          96.00"
      ]
     },
     "execution_count": 413,
     "metadata": {},
     "output_type": "execute_result"
    }
   ],
   "source": [
    "df_train_new[['Square', 'LifeSquare', 'KitchenSquare']].describe()"
   ]
  },
  {
   "cell_type": "markdown",
   "metadata": {},
   "source": [
    "Обработка этажей"
   ]
  },
  {
   "cell_type": "code",
   "execution_count": 414,
   "metadata": {},
   "outputs": [
    {
     "data": {
      "image/png": "[encoded data removed]",
      "text/plain": [
       "<Figure size 360x360 with 3 Axes>"
      ]
     },
     "metadata": {},
     "output_type": "display_data"
    }
   ],
   "source": [
    "sns.jointplot(df_train_new['Floor'], df_train_new['HouseFloor'], kind='scatter', height=5, color='r');"
   ]
  },
  {
   "cell_type": "code",
   "execution_count": 415,
   "metadata": {},
   "outputs": [
    {
     "data": {
      "image/png": "[encoded data removed]",
      "text/plain": [
       "<Figure size 360x360 with 3 Axes>"
      ]
     },
     "metadata": {},
     "output_type": "display_data"
    }
   ],
   "source": [
    "sns.jointplot(df_test_new['Floor'], df_test_new['HouseFloor'], kind='scatter', height=5, color='b');"
   ]
  },
  {
   "cell_type": "code",
   "execution_count": 416,
   "metadata": {},
   "outputs": [],
   "source": [
    "df_train_new.loc[df_train_new['HouseFloor'] == 0, 'HouseFloor'] = df_train_new['HouseFloor'].mode()[0]\n",
    "df_test_new.loc[df_test_new['HouseFloor'] == 0, 'HouseFloor'] = df_test_new['HouseFloor'].mode()[0]"
   ]
  },
  {
   "cell_type": "code",
   "execution_count": 417,
   "metadata": {},
   "outputs": [],
   "source": [
    "df_train_new.loc[df_train_new['HouseFloor'] > 50, 'HouseFloor'] = df_train_new['HouseFloor'].mode()[0]\n",
    "df_test_new.loc[df_test_new['HouseFloor'] > 50, 'HouseFloor'] = df_train_new['HouseFloor'].mode()[0]"
   ]
  },
  {
   "cell_type": "code",
   "execution_count": 418,
   "metadata": {},
   "outputs": [],
   "source": [
    "floor_outliers_train = df_train_new.loc[df_train_new['Floor'] > df_train_new['HouseFloor']].index\n",
    "floor_outliers_test = df_test_new.loc[df_test_new['Floor'] > df_test_new['HouseFloor']].index"
   ]
  },
  {
   "cell_type": "markdown",
   "metadata": {},
   "source": [
    "Этажность дома не сильно влияет на цену. Но всё же попробую навести с ней порядок. Этаж квартиры терять не хотелось бы, потому приравняю этажность к этажу"
   ]
  },
  {
   "cell_type": "code",
   "execution_count": 419,
   "metadata": {},
   "outputs": [],
   "source": [
    "df_train_new.loc[floor_outliers_train, 'HouseFloor'] = df_train_new.loc[floor_outliers_train, 'Floor']\n",
    "df_test_new.loc[floor_outliers_test, 'HouseFloor'] = df_test_new.loc[floor_outliers_test, 'Floor']"
   ]
  },
  {
   "cell_type": "markdown",
   "metadata": {},
   "source": [
    "Год постройки"
   ]
  },
  {
   "cell_type": "code",
   "execution_count": 420,
   "metadata": {},
   "outputs": [
    {
     "data": {
      "text/plain": [
       "7205    20052011\n",
       "9738        4968\n",
       "Name: HouseYear, dtype: int64"
      ]
     },
     "execution_count": 420,
     "metadata": {},
     "output_type": "execute_result"
    }
   ],
   "source": [
    "df_train_new.loc[df_train_new['HouseYear'] > 2020, 'HouseYear']"
   ]
  },
  {
   "cell_type": "code",
   "execution_count": 421,
   "metadata": {},
   "outputs": [],
   "source": [
    "df_train_new.loc[df_train_new['HouseYear'] == 20052011, 'HouseYear'] = 2011\n",
    "df_train_new.loc[df_train_new['HouseYear'] == 4968, 'HouseYear'] = 2020"
   ]
  },
  {
   "cell_type": "markdown",
   "metadata": {},
   "source": [
    "Новые признаки"
   ]
  },
  {
   "cell_type": "code",
   "execution_count": 460,
   "metadata": {},
   "outputs": [],
   "source": [
    "df_train_new['PriceOneRoom'] = df_train_new['Price'] / df_train_new['Rooms']\n",
    "\n",
    "price_by_district = df_train_new.groupby(['DistrictId'], as_index=False)\\\n",
    "                        .agg({'PriceOneRoom':'median'})\\\n",
    "                        .rename(columns={'PriceOneRoom':'PriceOneRoomByDistrict'})\n",
    "\n",
    "df_train_new = df_train_new.merge(price_by_district, on=['DistrictId'], how='left').set_index(df_train_new.index)\n",
    "df_test_new = df_test_new.merge(price_by_district, on=['DistrictId'], how='left').set_index(df_test_new.index)"
   ]
  },
  {
   "cell_type": "code",
   "execution_count": 462,
   "metadata": {},
   "outputs": [],
   "source": [
    "df_test_new['PriceOneRoomByDistrict'].fillna(df_test_new['PriceOneRoomByDistrict'].median(), inplace=True)"
   ]
  },
  {
   "cell_type": "markdown",
   "metadata": {},
   "source": [
    "Работа с моделью"
   ]
  },
  {
   "cell_type": "code",
   "execution_count": 464,
   "metadata": {},
   "outputs": [],
   "source": [
    "target_name = ['Price']\n",
    "feature_names = [\n",
    "             'DistrictId',\n",
    "             'Rooms',\n",
    "             'PriceOneRoomByDistrict',\n",
    "#             'DistrictSize',\n",
    "#             'RoomSquare',\n",
    "             'Square',\n",
    "             'LifeSquare',\n",
    "             'KitchenSquare',\n",
    "             'Floor',\n",
    "             'HouseFloor',\n",
    "             'HouseYear',\n",
    "             'Ecology_1',\n",
    "             'Ecology_2',\n",
    "             'Ecology_3',\n",
    "             'Social_1',\n",
    "             'Social_2',\n",
    "             'Social_3',\n",
    "             'Healthcare_1',\n",
    "             'Helthcare_2',\n",
    "             'Shops_1',\n",
    "             'Shops_2',\n",
    "]"
   ]
  },
  {
   "cell_type": "code",
   "execution_count": 465,
   "metadata": {},
   "outputs": [],
   "source": [
    "X = df_train_new[feature_names]\n",
    "y = df_train_new[target_name]\n",
    "\n",
    "X_test = df_test_new[feature_names]"
   ]
  },
  {
   "cell_type": "code",
   "execution_count": 466,
   "metadata": {},
   "outputs": [],
   "source": [
    "forest = RandomForestRegressor(max_depth=19, \n",
    "                               max_features=5, \n",
    "                               n_estimators=400,\n",
    "                               random_state=42)"
   ]
  },
  {
   "cell_type": "code",
   "execution_count": 467,
   "metadata": {},
   "outputs": [
    {
     "name": "stdout",
     "output_type": "stream",
     "text": [
      "R2: 0.74778\n"
     ]
    }
   ],
   "source": [
    "kf = KFold(n_splits=5, random_state=42, shuffle=True)\n",
    "\n",
    "cv_score = cross_val_score(forest, X, y, scoring='r2', cv=kf)\n",
    "print('R2: {:.5f}'.format(cv_score.mean()))"
   ]
  },
  {
   "cell_type": "markdown",
   "metadata": {},
   "source": [
    "Прогноз"
   ]
  },
  {
   "cell_type": "code",
   "execution_count": 475,
   "metadata": {},
   "outputs": [],
   "source": [
    "forest.fit(X, y)\n",
    "y_pred = forest.predict(X_test)\n",
    "\n",
    "preds = pd.DataFrame()\n",
    "#preds['Id'] = X_test.index\n",
    "preds['Id'] = df_test_new['Id']\n",
    "preds['Price'] = y_pred"
   ]
  },
  {
   "cell_type": "code",
   "execution_count": 478,
   "metadata": {},
   "outputs": [],
   "source": [
    "preds.to_csv('submission.csv', index=False)"
   ]
  },
  {
   "cell_type": "code",
   "execution_count": null,
   "metadata": {},
   "outputs": [],
   "source": []
  }
 ],
 "metadata": {
  "colab": {
   "authorship_tag": "ABX9TyN6MmrYd9qEd93uKn2qloOX",
   "collapsed_sections": [],
   "name": "Tkvitko_course_project.ipynb",
   "provenance": []
  },
  "kernelspec": {
   "display_name": "Python 3",
   "language": "python",
   "name": "python3"
  },
  "language_info": {
   "codemirror_mode": {
    "name": "ipython",
    "version": 3
   },
   "file_extension": ".py",
   "mimetype": "text/x-python",
   "name": "python",
   "nbconvert_exporter": "python",
   "pygments_lexer": "ipython3",
   "version": "3.7.6"
  }
 },
 "nbformat": 4,
 "nbformat_minor": 1
}
